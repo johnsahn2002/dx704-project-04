{
  "cells": [
    {
      "cell_type": "markdown",
      "metadata": {
        "id": "Md413FzAvFD8"
      },
      "source": [
        "# DX 704 Week 4 Project\n",
        "\n",
        "This week's project will test the learning speed of linear contextual bandits compared to unoptimized approaches.\n",
        "You will start with building a preference data set for evaluation, and then implement different variations of LinUCB and visualize how fast they learn the preferences.\n"
      ]
    },
    {
      "cell_type": "markdown",
      "metadata": {
        "id": "D3gs-tquuzJe"
      },
      "source": [
        "The full project description, a template notebook and supporting code are available on GitHub: [Project 4 Materials](https://github.com/bu-cds-dx704/dx704-project-04).\n"
      ]
    },
    {
      "cell_type": "markdown",
      "metadata": {
        "id": "OguIjc5idW3Z"
      },
      "source": [
        "## Example Code\n",
        "\n",
        "You may find it helpful to refer to these GitHub repositories of Jupyter notebooks for example code.\n",
        "\n",
        "* https://github.com/bu-cds-omds/dx601-examples\n",
        "* https://github.com/bu-cds-omds/dx602-examples\n",
        "* https://github.com/bu-cds-omds/dx603-examples\n",
        "* https://github.com/bu-cds-omds/dx704-examples\n",
        "\n",
        "Any calculations demonstrated in code examples or videos may be found in these notebooks, and you are allowed to copy this example code in your homework answers."
      ]
    },
    {
      "cell_type": "markdown",
      "metadata": {
        "id": "C8oSLkMqvMFF"
      },
      "source": [
        "## Part 1: Collect Rating Data\n",
        "\n",
        "The file \"recipes.tsv\" in this repository has information about 100 recipes.\n",
        "Make a new file \"ratings.tsv\" with two columns, recipe_slug (from recipes.tsv) and rating.\n",
        "Populate the rating column with values between 0 and 1 where 0 is the worst and 1 is the best.\n",
        "You can assign these ratings however you want within that range, but try to make it reflect a consistent set of preferences.\n",
        "These could be your preferences, or a persona of your choosing (e.g. chocolate lover, bacon-obsessed, or sweet tooth).\n",
        "Make sure that there are at least 10 ratings of zero and at least 10 ratings of one.\n"
      ]
    },
    {
      "cell_type": "markdown",
      "metadata": {
        "id": "kAwViBgKfWER"
      },
      "source": [
        "Hint: You may find it more convenient to assign raw ratings from 1 to 5 and then remap them as follows.\n",
        "\n",
        "`ratings[\"rating\"] = (ratings[\"rating_raw\"] - 1) * 0.25`"
      ]
    },
    {
      "cell_type": "code",
      "execution_count": 2,
      "metadata": {},
      "outputs": [
        {
          "name": "stdout",
          "output_type": "stream",
          "text": [
            "Recipes dataset info:\n",
            "Shape: (100, 3)\n",
            "Columns: ['recipe_slug', 'recipe_title', 'recipe_introduction']\n",
            "\n",
            "First 10 recipes:\n",
            "                    recipe_slug                  recipe_title  \\\n",
            "0                       falafel                       Falafel   \n",
            "1                    spamburger                    Spamburger   \n",
            "2              bacon-fried-rice              Bacon Fried Rice   \n",
            "3               chicken-fingers               Chicken Fingers   \n",
            "4                   apple-crisp                   Apple Crisp   \n",
            "5         cranberry-apple-crisp         Cranberry Apple Crisp   \n",
            "6  bacon-chocolate-chip-cookies  Bacon Chocolate Chip Cookies   \n",
            "7                        sujebi                        Sujebi   \n",
            "8               pasta-primavera               Pasta Primavera   \n",
            "9                         ramen                         Ramen   \n",
            "\n",
            "                                 recipe_introduction  \n",
            "0  Falafel is a popular Middle Eastern dish made ...  \n",
            "1  Spamburger is a type of hamburger that is made...  \n",
            "2  Bacon fried rice is a savory and satisfying di...  \n",
            "3  Chicken fingers are a popular dish made from c...  \n",
            "4  Apple crisp is a classic dessert made with bak...  \n",
            "5  Cranberry apple crisp is a delicious dessert t...  \n",
            "6  Bacon chocolate chip cookies are a unique and ...  \n",
            "7  Sujebi is a traditional Korean soup made with ...  \n",
            "8  Pasta primavera is a classic Italian dish that...  \n",
            "9  Ramen is a Japanese noodle soup dish that typi...  \n",
            "\n",
            "Sample of recipe names and descriptions:\n",
            "falafel: N/A - N/A...\n",
            "spamburger: N/A - N/A...\n",
            "bacon-fried-rice: N/A - N/A...\n",
            "chicken-fingers: N/A - N/A...\n",
            "apple-crisp: N/A - N/A...\n",
            "cranberry-apple-crisp: N/A - N/A...\n",
            "bacon-chocolate-chip-cookies: N/A - N/A...\n",
            "sujebi: N/A - N/A...\n",
            "pasta-primavera: N/A - N/A...\n",
            "ramen: N/A - N/A...\n",
            "brownies: N/A - N/A...\n",
            "bacon-wrapped-scallops: N/A - N/A...\n",
            "bacon-egg-muffins: N/A - N/A...\n",
            "breakfast-burritos: N/A - N/A...\n",
            "bolognese-sauce: N/A - N/A...\n",
            "croissants: N/A - N/A...\n",
            "bacon-souffle: N/A - N/A...\n",
            "souffle: N/A - N/A...\n",
            "chocolate-souffle: N/A - N/A...\n",
            "butter-croissants: N/A - N/A...\n"
          ]
        }
      ],
      "source": [
        "import pandas as pd\n",
        "\n",
        "# Load and examine the recipes data\n",
        "recipes = pd.read_csv('recipes.tsv', sep='\\t')\n",
        "print(\"Recipes dataset info:\")\n",
        "print(f\"Shape: {recipes.shape}\")\n",
        "print(f\"Columns: {list(recipes.columns)}\")\n",
        "print(\"\\nFirst 10 recipes:\")\n",
        "print(recipes.head(10))\n",
        "print(\"\\nSample of recipe names and descriptions:\")\n",
        "for i in range(20):\n",
        "    print(f\"{recipes.iloc[i]['recipe_slug']}: {recipes.iloc[i].get('title', 'N/A')} - {recipes.iloc[i].get('description', 'N/A')[:100]}...\")"
      ]
    },
    {
      "cell_type": "code",
      "execution_count": 14,
      "metadata": {},
      "outputs": [],
      "source": [
        "ratings = pd.read_csv('ratings.tsv', sep='\\t')\n",
        "recipes = pd.read_csv('recipes.tsv', sep='\\t')\n",
        "\n",
        "# Shuffle for randomness\n",
        "ratings = ratings.sample(frac=1, random_state=42).reset_index(drop=True)\n",
        "\n",
        "# Find chocolate/sweet recipes by keyword in title\n",
        "mask_choco_sweet = recipes['recipe_title'].str.contains('chocolate|sweet', case=False, na=False)\n",
        "choco_sweet_slugs = recipes.loc[mask_choco_sweet, 'recipe_slug']\n",
        "\n",
        "# Assign 1.0 to up to 10 recipes matching preference\n",
        "is_fav = ratings['recipe_slug'].isin(choco_sweet_slugs)\n",
        "fav_indices = ratings[is_fav].index[:10]\n",
        "ratings.loc[fav_indices, 'rating'] = 1.0\n",
        "\n",
        "# Assign 0.0 to up to 10 recipes with no chocolate/sweet (the first 10 non-matching)\n",
        "non_fav_indices = ratings[~is_fav].index[:10]\n",
        "ratings.loc[non_fav_indices, 'rating'] = 0.0\n",
        "\n",
        "# Remaining recipes (not yet assigned), distribute evenly\n",
        "remaining_indices = ratings.index.difference(list(fav_indices) + list(non_fav_indices))\n",
        "if len(remaining_indices) > 0:\n",
        "    mid_vals = np.linspace(0.05, 0.95, len(remaining_indices))\n",
        "    ratings.loc[remaining_indices, 'rating'] = mid_vals\n",
        "\n",
        "ratings.to_csv('ratings.tsv', sep='\\t', index=False)\n"
      ]
    },
    {
      "cell_type": "markdown",
      "metadata": {
        "id": "Eh7UaX6OvuWo"
      },
      "source": [
        "Submit \"ratings.tsv\" in Gradescope."
      ]
    },
    {
      "cell_type": "markdown",
      "metadata": {
        "id": "NiCwaZwr5M67"
      },
      "source": [
        "## Part 2: Construct Model Input\n",
        "\n",
        "Use your file \"ratings.tsv\" combined with \"recipe-tags.tsv\" to create a new file \"features.tsv\" with a column recipe_slug, a column bias which is hard-coded to one, and a column for each tag that appears in \"recipe-tags.tsv\".\n",
        "The tag column in this file should be a 0-1 encoding of the recipe tags for each recipe.\n",
        "[Pandas reshaping function methods](https://pandas.pydata.org/docs/user_guide/reshaping.html) may be helpful."
      ]
    },
    {
      "cell_type": "markdown",
      "metadata": {
        "id": "8WWi_JJXocEb"
      },
      "source": [
        "The bias column will make later LinUCB calculations easier since it will just be another dimension."
      ]
    },
    {
      "cell_type": "markdown",
      "metadata": {
        "id": "MHR-BsD9539j"
      },
      "source": [
        "Hint: For later modeling steps, it will be important to have the feature data (inputs) and the rating data (target outputs) in the same order.\n",
        "It is highly recommended to make sure that \"features.tsv\" and \"ratings.tsv\" have the recipe slugs in the same order."
      ]
    },
    {
      "cell_type": "code",
      "execution_count": 13,
      "metadata": {
        "id": "cGvj258d8nnv"
      },
      "outputs": [],
      "source": [
        "ratings = pd.read_csv('ratings.tsv', sep='\\t')\n",
        "recipe_tags = pd.read_csv('recipe-tags.tsv', sep='\\t')\n",
        "\n",
        "all_tags = sorted(recipe_tags['recipe_tag'].unique())\n",
        "\n",
        "tagged = recipe_tags.groupby('recipe_slug')['recipe_tag'].apply(list).to_dict()\n",
        "\n",
        "rows = []\n",
        "for slug in ratings['recipe_slug']:\n",
        "    features = {'recipe_slug': slug, 'bias': 1}\n",
        "    recipe_tags_list = tagged.get(slug, [])\n",
        "    for tag in all_tags:\n",
        "        features[tag] = int(tag in recipe_tags_list)\n",
        "    rows.append(features)\n",
        "\n",
        "features_df = pd.DataFrame(rows)\n",
        "features_df.to_csv('features.tsv', sep='\\t', index=False)"
      ]
    },
    {
      "cell_type": "markdown",
      "metadata": {
        "id": "w63ji-Oi6oH7"
      },
      "source": [
        "Submit \"features.tsv\" in Gradescope."
      ]
    },
    {
      "cell_type": "markdown",
      "metadata": {
        "id": "4TeXvznlwJzo"
      },
      "source": [
        "## Part 3: Linear Preference Model\n",
        "\n",
        "Use your feature and rating files to build a ridge regression model with ridge regression's regularization parameter $\\alpha$ set to 1.\n"
      ]
    },
    {
      "cell_type": "markdown",
      "metadata": {
        "id": "aVlUnVv4oDIk"
      },
      "source": [
        "Hint: If you are using scikit-learn modeling classes, you should use `fit_intercept=False` since that intercept value will be redundant with the bias coefficient."
      ]
    },
    {
      "cell_type": "markdown",
      "metadata": {
        "id": "NLrBu-z7A45W"
      },
      "source": [
        "Hint: The estimate component of the bounds should match the previous estimate, so you should be able to just focus on the variance component of the bounds now."
      ]
    },
    {
      "cell_type": "code",
      "execution_count": null,
      "metadata": {
        "id": "dxtiRunPwPYz"
      },
      "outputs": [
        {
          "data": {
            "text/plain": [
              "Ellipsis"
            ]
          },
          "execution_count": 6,
          "metadata": {},
          "output_type": "execute_result"
        }
      ],
      "source": [
        "# YOUR CHANGES HERE\n",
        "from sklearn.linear_model import Ridge\n",
        "\n",
        "features = pd.read_csv(\"features.tsv\", sep=\"\\t\")\n",
        "ratings = pd.read_csv(\"ratings.tsv\", sep=\"\\t\")\n",
        "\n",
        "data = features.merge(ratings[['recipe_slug', 'rating']], on='recipe_slug')\n",
        "X = data.drop(['recipe_slug', 'rating'], axis=1)\n",
        "y = data['rating']\n",
        "\n",
        "model = Ridge(alpha=1, fit_intercept=False)\n",
        "model.fit(X, y)\n",
        "\n"
      ]
    },
    {
      "cell_type": "markdown",
      "metadata": {
        "id": "fw9LaHF_8tsA"
      },
      "source": [
        "Save the coefficients of this model in a file \"model.tsv\" with columns \"recipe_tag\" and \"coefficient\".\n",
        "Do not add anything for the `intercept_` attribute of a scikit-learn model; this will be covered by the coefficient for the bias column added in part 2."
      ]
    },
    {
      "cell_type": "code",
      "execution_count": null,
      "metadata": {
        "id": "fiMBlU4L8uSR"
      },
      "outputs": [
        {
          "data": {
            "text/plain": [
              "Ellipsis"
            ]
          },
          "execution_count": 7,
          "metadata": {},
          "output_type": "execute_result"
        }
      ],
      "source": [
        "# YOUR CHANGES HERE\n",
        "coefs = pd.DataFrame({\n",
        "    'recipe_tag': X.columns,\n",
        "    'coefficient': model.coef_\n",
        "})\n",
        "coefs.to_csv(\"model.tsv\", sep=\"\\t\", index=False)\n"
      ]
    },
    {
      "cell_type": "markdown",
      "metadata": {
        "id": "86uS_zZ0wQxC"
      },
      "source": [
        "Submit \"model.tsv\" in Gradescope."
      ]
    },
    {
      "cell_type": "markdown",
      "metadata": {
        "id": "B1Nfs7zCsDpj"
      },
      "source": [
        "## Part 4: Recipe Estimates\n",
        "\n",
        "Use the recipe model to estimate the score of every recipe.\n",
        "Save these estimates to a file \"estimates.tsv\" with columns recipe_slug and score_estimate."
      ]
    },
    {
      "cell_type": "code",
      "execution_count": 8,
      "metadata": {
        "id": "pIClPwYVso5a"
      },
      "outputs": [],
      "source": [
        "features = pd.read_csv('features.tsv', sep='\\t')\n",
        "coefs = pd.read_csv('model.tsv', sep='\\t')\n",
        "\n",
        "X = features.drop('recipe_slug', axis=1)\n",
        "coef_vect = coefs.set_index('recipe_tag')['coefficient'].reindex(X.columns).values\n",
        "\n",
        "scores = X.dot(coef_vect)\n",
        "\n",
        "result = pd.DataFrame({\n",
        "    'recipe_slug': features['recipe_slug'],\n",
        "    'score_estimate': scores\n",
        "})\n",
        "result.to_csv('estimates.tsv', sep='\\t', index=False)\n",
        "\n"
      ]
    },
    {
      "cell_type": "markdown",
      "metadata": {
        "id": "i5t3uSE_srMA"
      },
      "source": [
        "Submit \"estimates.tsv\" in Gradescope."
      ]
    },
    {
      "cell_type": "markdown",
      "metadata": {
        "id": "yTBplNhRst8q"
      },
      "source": [
        "## Part 5: LinUCB Bounds\n",
        "\n",
        "Calculate the upper bounds of LinUCB using data corresponding to trying every recipe once and receiving the rating in \"ratings.tsv\" as the reward.\n",
        "Keep the ridge regression regularization parameter at 1, and set LinUCB's $\\alpha$ parameter to 2.\n",
        "Save these upper bounds to a file \"bounds.tsv\" with columns recipe_slug and score_bound."
      ]
    },
    {
      "cell_type": "code",
      "execution_count": 9,
      "metadata": {
        "id": "kY7aWD_PuP0W"
      },
      "outputs": [],
      "source": [
        "# YOUR CHANGES HERE\n",
        "\n",
        "import numpy as np\n",
        "\n",
        "features = pd.read_csv('features.tsv', sep='\\t')\n",
        "coefs = pd.read_csv('model.tsv', sep='\\t')\n",
        "ratings = pd.read_csv('ratings.tsv', sep='\\t')\n",
        "\n",
        "X = features.drop('recipe_slug', axis=1).values\n",
        "alpha = 1\n",
        "A = X.T @ X + alpha * np.identity(X.shape[1])\n",
        "A_inv = np.linalg.inv(A)\n",
        "coef_vect = coefs.set_index('recipe_tag')['coefficient'].reindex(features.columns[1:]).values\n",
        "\n",
        "score_estimate = X @ coef_vect\n",
        "variance = np.sqrt(np.sum((X @ A_inv) * X, axis=1))\n",
        "score_bound = score_estimate + 2 * variance\n",
        "\n",
        "bounds = pd.DataFrame({\n",
        "    'recipe_slug': features['recipe_slug'],\n",
        "    'score_bound': score_bound\n",
        "})\n",
        "bounds.to_csv('bounds.tsv', sep='\\t', index=False)\n"
      ]
    },
    {
      "cell_type": "markdown",
      "metadata": {
        "id": "ZQ4RPppFvG-S"
      },
      "source": [
        "Submit \"bounds.tsv\" in Gradescope."
      ]
    },
    {
      "cell_type": "markdown",
      "metadata": {
        "id": "AfazOSWlwYsP"
      },
      "source": [
        "## Part 6: Make Online Recommendations\n",
        "\n",
        "Implement LinUCB to make 100 recommendations starting with no data and using the same parameters as in part 5.\n",
        "One recommendation should be made at a time and you can break ties arbitrarily.\n",
        "After each recommendation, use the rating from part 1 as the reward to update the LinUCB data.\n",
        "Record the recommendations made in a file \"recommendations.tsv\" with columns \"recipe_slug\", \"score_bound\", and \"reward\".\n",
        "The rows in this file should be in the same order as the recommendations were made."
      ]
    },
    {
      "cell_type": "code",
      "execution_count": 10,
      "metadata": {
        "id": "hQ7r45B7wm4v"
      },
      "outputs": [
        {
          "name": "stderr",
          "output_type": "stream",
          "text": [
            "/tmp/ipykernel_16498/3596101860.py:28: FutureWarning: Calling float on a single element Series is deprecated and will raise a TypeError in the future. Use float(ser.iloc[0]) instead\n",
            "  reward = float(ratings.loc[ratings['recipe_slug'] == top[0], 'rating'])\n",
            "/tmp/ipykernel_16498/3596101860.py:28: FutureWarning: Calling float on a single element Series is deprecated and will raise a TypeError in the future. Use float(ser.iloc[0]) instead\n",
            "  reward = float(ratings.loc[ratings['recipe_slug'] == top[0], 'rating'])\n",
            "/tmp/ipykernel_16498/3596101860.py:28: FutureWarning: Calling float on a single element Series is deprecated and will raise a TypeError in the future. Use float(ser.iloc[0]) instead\n",
            "  reward = float(ratings.loc[ratings['recipe_slug'] == top[0], 'rating'])\n",
            "/tmp/ipykernel_16498/3596101860.py:28: FutureWarning: Calling float on a single element Series is deprecated and will raise a TypeError in the future. Use float(ser.iloc[0]) instead\n",
            "  reward = float(ratings.loc[ratings['recipe_slug'] == top[0], 'rating'])\n",
            "/tmp/ipykernel_16498/3596101860.py:28: FutureWarning: Calling float on a single element Series is deprecated and will raise a TypeError in the future. Use float(ser.iloc[0]) instead\n",
            "  reward = float(ratings.loc[ratings['recipe_slug'] == top[0], 'rating'])\n",
            "/tmp/ipykernel_16498/3596101860.py:28: FutureWarning: Calling float on a single element Series is deprecated and will raise a TypeError in the future. Use float(ser.iloc[0]) instead\n",
            "  reward = float(ratings.loc[ratings['recipe_slug'] == top[0], 'rating'])\n",
            "/tmp/ipykernel_16498/3596101860.py:28: FutureWarning: Calling float on a single element Series is deprecated and will raise a TypeError in the future. Use float(ser.iloc[0]) instead\n",
            "  reward = float(ratings.loc[ratings['recipe_slug'] == top[0], 'rating'])\n",
            "/tmp/ipykernel_16498/3596101860.py:28: FutureWarning: Calling float on a single element Series is deprecated and will raise a TypeError in the future. Use float(ser.iloc[0]) instead\n",
            "  reward = float(ratings.loc[ratings['recipe_slug'] == top[0], 'rating'])\n",
            "/tmp/ipykernel_16498/3596101860.py:28: FutureWarning: Calling float on a single element Series is deprecated and will raise a TypeError in the future. Use float(ser.iloc[0]) instead\n",
            "  reward = float(ratings.loc[ratings['recipe_slug'] == top[0], 'rating'])\n",
            "/tmp/ipykernel_16498/3596101860.py:28: FutureWarning: Calling float on a single element Series is deprecated and will raise a TypeError in the future. Use float(ser.iloc[0]) instead\n",
            "  reward = float(ratings.loc[ratings['recipe_slug'] == top[0], 'rating'])\n",
            "/tmp/ipykernel_16498/3596101860.py:28: FutureWarning: Calling float on a single element Series is deprecated and will raise a TypeError in the future. Use float(ser.iloc[0]) instead\n",
            "  reward = float(ratings.loc[ratings['recipe_slug'] == top[0], 'rating'])\n",
            "/tmp/ipykernel_16498/3596101860.py:28: FutureWarning: Calling float on a single element Series is deprecated and will raise a TypeError in the future. Use float(ser.iloc[0]) instead\n",
            "  reward = float(ratings.loc[ratings['recipe_slug'] == top[0], 'rating'])\n",
            "/tmp/ipykernel_16498/3596101860.py:28: FutureWarning: Calling float on a single element Series is deprecated and will raise a TypeError in the future. Use float(ser.iloc[0]) instead\n",
            "  reward = float(ratings.loc[ratings['recipe_slug'] == top[0], 'rating'])\n",
            "/tmp/ipykernel_16498/3596101860.py:28: FutureWarning: Calling float on a single element Series is deprecated and will raise a TypeError in the future. Use float(ser.iloc[0]) instead\n",
            "  reward = float(ratings.loc[ratings['recipe_slug'] == top[0], 'rating'])\n",
            "/tmp/ipykernel_16498/3596101860.py:28: FutureWarning: Calling float on a single element Series is deprecated and will raise a TypeError in the future. Use float(ser.iloc[0]) instead\n",
            "  reward = float(ratings.loc[ratings['recipe_slug'] == top[0], 'rating'])\n",
            "/tmp/ipykernel_16498/3596101860.py:28: FutureWarning: Calling float on a single element Series is deprecated and will raise a TypeError in the future. Use float(ser.iloc[0]) instead\n",
            "  reward = float(ratings.loc[ratings['recipe_slug'] == top[0], 'rating'])\n",
            "/tmp/ipykernel_16498/3596101860.py:28: FutureWarning: Calling float on a single element Series is deprecated and will raise a TypeError in the future. Use float(ser.iloc[0]) instead\n",
            "  reward = float(ratings.loc[ratings['recipe_slug'] == top[0], 'rating'])\n",
            "/tmp/ipykernel_16498/3596101860.py:28: FutureWarning: Calling float on a single element Series is deprecated and will raise a TypeError in the future. Use float(ser.iloc[0]) instead\n",
            "  reward = float(ratings.loc[ratings['recipe_slug'] == top[0], 'rating'])\n",
            "/tmp/ipykernel_16498/3596101860.py:28: FutureWarning: Calling float on a single element Series is deprecated and will raise a TypeError in the future. Use float(ser.iloc[0]) instead\n",
            "  reward = float(ratings.loc[ratings['recipe_slug'] == top[0], 'rating'])\n",
            "/tmp/ipykernel_16498/3596101860.py:28: FutureWarning: Calling float on a single element Series is deprecated and will raise a TypeError in the future. Use float(ser.iloc[0]) instead\n",
            "  reward = float(ratings.loc[ratings['recipe_slug'] == top[0], 'rating'])\n",
            "/tmp/ipykernel_16498/3596101860.py:28: FutureWarning: Calling float on a single element Series is deprecated and will raise a TypeError in the future. Use float(ser.iloc[0]) instead\n",
            "  reward = float(ratings.loc[ratings['recipe_slug'] == top[0], 'rating'])\n",
            "/tmp/ipykernel_16498/3596101860.py:28: FutureWarning: Calling float on a single element Series is deprecated and will raise a TypeError in the future. Use float(ser.iloc[0]) instead\n",
            "  reward = float(ratings.loc[ratings['recipe_slug'] == top[0], 'rating'])\n",
            "/tmp/ipykernel_16498/3596101860.py:28: FutureWarning: Calling float on a single element Series is deprecated and will raise a TypeError in the future. Use float(ser.iloc[0]) instead\n",
            "  reward = float(ratings.loc[ratings['recipe_slug'] == top[0], 'rating'])\n",
            "/tmp/ipykernel_16498/3596101860.py:28: FutureWarning: Calling float on a single element Series is deprecated and will raise a TypeError in the future. Use float(ser.iloc[0]) instead\n",
            "  reward = float(ratings.loc[ratings['recipe_slug'] == top[0], 'rating'])\n",
            "/tmp/ipykernel_16498/3596101860.py:28: FutureWarning: Calling float on a single element Series is deprecated and will raise a TypeError in the future. Use float(ser.iloc[0]) instead\n",
            "  reward = float(ratings.loc[ratings['recipe_slug'] == top[0], 'rating'])\n",
            "/tmp/ipykernel_16498/3596101860.py:28: FutureWarning: Calling float on a single element Series is deprecated and will raise a TypeError in the future. Use float(ser.iloc[0]) instead\n",
            "  reward = float(ratings.loc[ratings['recipe_slug'] == top[0], 'rating'])\n",
            "/tmp/ipykernel_16498/3596101860.py:28: FutureWarning: Calling float on a single element Series is deprecated and will raise a TypeError in the future. Use float(ser.iloc[0]) instead\n",
            "  reward = float(ratings.loc[ratings['recipe_slug'] == top[0], 'rating'])\n",
            "/tmp/ipykernel_16498/3596101860.py:28: FutureWarning: Calling float on a single element Series is deprecated and will raise a TypeError in the future. Use float(ser.iloc[0]) instead\n",
            "  reward = float(ratings.loc[ratings['recipe_slug'] == top[0], 'rating'])\n",
            "/tmp/ipykernel_16498/3596101860.py:28: FutureWarning: Calling float on a single element Series is deprecated and will raise a TypeError in the future. Use float(ser.iloc[0]) instead\n",
            "  reward = float(ratings.loc[ratings['recipe_slug'] == top[0], 'rating'])\n",
            "/tmp/ipykernel_16498/3596101860.py:28: FutureWarning: Calling float on a single element Series is deprecated and will raise a TypeError in the future. Use float(ser.iloc[0]) instead\n",
            "  reward = float(ratings.loc[ratings['recipe_slug'] == top[0], 'rating'])\n",
            "/tmp/ipykernel_16498/3596101860.py:28: FutureWarning: Calling float on a single element Series is deprecated and will raise a TypeError in the future. Use float(ser.iloc[0]) instead\n",
            "  reward = float(ratings.loc[ratings['recipe_slug'] == top[0], 'rating'])\n",
            "/tmp/ipykernel_16498/3596101860.py:28: FutureWarning: Calling float on a single element Series is deprecated and will raise a TypeError in the future. Use float(ser.iloc[0]) instead\n",
            "  reward = float(ratings.loc[ratings['recipe_slug'] == top[0], 'rating'])\n",
            "/tmp/ipykernel_16498/3596101860.py:28: FutureWarning: Calling float on a single element Series is deprecated and will raise a TypeError in the future. Use float(ser.iloc[0]) instead\n",
            "  reward = float(ratings.loc[ratings['recipe_slug'] == top[0], 'rating'])\n",
            "/tmp/ipykernel_16498/3596101860.py:28: FutureWarning: Calling float on a single element Series is deprecated and will raise a TypeError in the future. Use float(ser.iloc[0]) instead\n",
            "  reward = float(ratings.loc[ratings['recipe_slug'] == top[0], 'rating'])\n",
            "/tmp/ipykernel_16498/3596101860.py:28: FutureWarning: Calling float on a single element Series is deprecated and will raise a TypeError in the future. Use float(ser.iloc[0]) instead\n",
            "  reward = float(ratings.loc[ratings['recipe_slug'] == top[0], 'rating'])\n",
            "/tmp/ipykernel_16498/3596101860.py:28: FutureWarning: Calling float on a single element Series is deprecated and will raise a TypeError in the future. Use float(ser.iloc[0]) instead\n",
            "  reward = float(ratings.loc[ratings['recipe_slug'] == top[0], 'rating'])\n",
            "/tmp/ipykernel_16498/3596101860.py:28: FutureWarning: Calling float on a single element Series is deprecated and will raise a TypeError in the future. Use float(ser.iloc[0]) instead\n",
            "  reward = float(ratings.loc[ratings['recipe_slug'] == top[0], 'rating'])\n",
            "/tmp/ipykernel_16498/3596101860.py:28: FutureWarning: Calling float on a single element Series is deprecated and will raise a TypeError in the future. Use float(ser.iloc[0]) instead\n",
            "  reward = float(ratings.loc[ratings['recipe_slug'] == top[0], 'rating'])\n",
            "/tmp/ipykernel_16498/3596101860.py:28: FutureWarning: Calling float on a single element Series is deprecated and will raise a TypeError in the future. Use float(ser.iloc[0]) instead\n",
            "  reward = float(ratings.loc[ratings['recipe_slug'] == top[0], 'rating'])\n",
            "/tmp/ipykernel_16498/3596101860.py:28: FutureWarning: Calling float on a single element Series is deprecated and will raise a TypeError in the future. Use float(ser.iloc[0]) instead\n",
            "  reward = float(ratings.loc[ratings['recipe_slug'] == top[0], 'rating'])\n",
            "/tmp/ipykernel_16498/3596101860.py:28: FutureWarning: Calling float on a single element Series is deprecated and will raise a TypeError in the future. Use float(ser.iloc[0]) instead\n",
            "  reward = float(ratings.loc[ratings['recipe_slug'] == top[0], 'rating'])\n",
            "/tmp/ipykernel_16498/3596101860.py:28: FutureWarning: Calling float on a single element Series is deprecated and will raise a TypeError in the future. Use float(ser.iloc[0]) instead\n",
            "  reward = float(ratings.loc[ratings['recipe_slug'] == top[0], 'rating'])\n",
            "/tmp/ipykernel_16498/3596101860.py:28: FutureWarning: Calling float on a single element Series is deprecated and will raise a TypeError in the future. Use float(ser.iloc[0]) instead\n",
            "  reward = float(ratings.loc[ratings['recipe_slug'] == top[0], 'rating'])\n",
            "/tmp/ipykernel_16498/3596101860.py:28: FutureWarning: Calling float on a single element Series is deprecated and will raise a TypeError in the future. Use float(ser.iloc[0]) instead\n",
            "  reward = float(ratings.loc[ratings['recipe_slug'] == top[0], 'rating'])\n",
            "/tmp/ipykernel_16498/3596101860.py:28: FutureWarning: Calling float on a single element Series is deprecated and will raise a TypeError in the future. Use float(ser.iloc[0]) instead\n",
            "  reward = float(ratings.loc[ratings['recipe_slug'] == top[0], 'rating'])\n",
            "/tmp/ipykernel_16498/3596101860.py:28: FutureWarning: Calling float on a single element Series is deprecated and will raise a TypeError in the future. Use float(ser.iloc[0]) instead\n",
            "  reward = float(ratings.loc[ratings['recipe_slug'] == top[0], 'rating'])\n",
            "/tmp/ipykernel_16498/3596101860.py:28: FutureWarning: Calling float on a single element Series is deprecated and will raise a TypeError in the future. Use float(ser.iloc[0]) instead\n",
            "  reward = float(ratings.loc[ratings['recipe_slug'] == top[0], 'rating'])\n",
            "/tmp/ipykernel_16498/3596101860.py:28: FutureWarning: Calling float on a single element Series is deprecated and will raise a TypeError in the future. Use float(ser.iloc[0]) instead\n",
            "  reward = float(ratings.loc[ratings['recipe_slug'] == top[0], 'rating'])\n",
            "/tmp/ipykernel_16498/3596101860.py:28: FutureWarning: Calling float on a single element Series is deprecated and will raise a TypeError in the future. Use float(ser.iloc[0]) instead\n",
            "  reward = float(ratings.loc[ratings['recipe_slug'] == top[0], 'rating'])\n",
            "/tmp/ipykernel_16498/3596101860.py:28: FutureWarning: Calling float on a single element Series is deprecated and will raise a TypeError in the future. Use float(ser.iloc[0]) instead\n",
            "  reward = float(ratings.loc[ratings['recipe_slug'] == top[0], 'rating'])\n",
            "/tmp/ipykernel_16498/3596101860.py:28: FutureWarning: Calling float on a single element Series is deprecated and will raise a TypeError in the future. Use float(ser.iloc[0]) instead\n",
            "  reward = float(ratings.loc[ratings['recipe_slug'] == top[0], 'rating'])\n",
            "/tmp/ipykernel_16498/3596101860.py:28: FutureWarning: Calling float on a single element Series is deprecated and will raise a TypeError in the future. Use float(ser.iloc[0]) instead\n",
            "  reward = float(ratings.loc[ratings['recipe_slug'] == top[0], 'rating'])\n",
            "/tmp/ipykernel_16498/3596101860.py:28: FutureWarning: Calling float on a single element Series is deprecated and will raise a TypeError in the future. Use float(ser.iloc[0]) instead\n",
            "  reward = float(ratings.loc[ratings['recipe_slug'] == top[0], 'rating'])\n",
            "/tmp/ipykernel_16498/3596101860.py:28: FutureWarning: Calling float on a single element Series is deprecated and will raise a TypeError in the future. Use float(ser.iloc[0]) instead\n",
            "  reward = float(ratings.loc[ratings['recipe_slug'] == top[0], 'rating'])\n",
            "/tmp/ipykernel_16498/3596101860.py:28: FutureWarning: Calling float on a single element Series is deprecated and will raise a TypeError in the future. Use float(ser.iloc[0]) instead\n",
            "  reward = float(ratings.loc[ratings['recipe_slug'] == top[0], 'rating'])\n",
            "/tmp/ipykernel_16498/3596101860.py:28: FutureWarning: Calling float on a single element Series is deprecated and will raise a TypeError in the future. Use float(ser.iloc[0]) instead\n",
            "  reward = float(ratings.loc[ratings['recipe_slug'] == top[0], 'rating'])\n",
            "/tmp/ipykernel_16498/3596101860.py:28: FutureWarning: Calling float on a single element Series is deprecated and will raise a TypeError in the future. Use float(ser.iloc[0]) instead\n",
            "  reward = float(ratings.loc[ratings['recipe_slug'] == top[0], 'rating'])\n",
            "/tmp/ipykernel_16498/3596101860.py:28: FutureWarning: Calling float on a single element Series is deprecated and will raise a TypeError in the future. Use float(ser.iloc[0]) instead\n",
            "  reward = float(ratings.loc[ratings['recipe_slug'] == top[0], 'rating'])\n",
            "/tmp/ipykernel_16498/3596101860.py:28: FutureWarning: Calling float on a single element Series is deprecated and will raise a TypeError in the future. Use float(ser.iloc[0]) instead\n",
            "  reward = float(ratings.loc[ratings['recipe_slug'] == top[0], 'rating'])\n",
            "/tmp/ipykernel_16498/3596101860.py:28: FutureWarning: Calling float on a single element Series is deprecated and will raise a TypeError in the future. Use float(ser.iloc[0]) instead\n",
            "  reward = float(ratings.loc[ratings['recipe_slug'] == top[0], 'rating'])\n",
            "/tmp/ipykernel_16498/3596101860.py:28: FutureWarning: Calling float on a single element Series is deprecated and will raise a TypeError in the future. Use float(ser.iloc[0]) instead\n",
            "  reward = float(ratings.loc[ratings['recipe_slug'] == top[0], 'rating'])\n",
            "/tmp/ipykernel_16498/3596101860.py:28: FutureWarning: Calling float on a single element Series is deprecated and will raise a TypeError in the future. Use float(ser.iloc[0]) instead\n",
            "  reward = float(ratings.loc[ratings['recipe_slug'] == top[0], 'rating'])\n",
            "/tmp/ipykernel_16498/3596101860.py:28: FutureWarning: Calling float on a single element Series is deprecated and will raise a TypeError in the future. Use float(ser.iloc[0]) instead\n",
            "  reward = float(ratings.loc[ratings['recipe_slug'] == top[0], 'rating'])\n",
            "/tmp/ipykernel_16498/3596101860.py:28: FutureWarning: Calling float on a single element Series is deprecated and will raise a TypeError in the future. Use float(ser.iloc[0]) instead\n",
            "  reward = float(ratings.loc[ratings['recipe_slug'] == top[0], 'rating'])\n",
            "/tmp/ipykernel_16498/3596101860.py:28: FutureWarning: Calling float on a single element Series is deprecated and will raise a TypeError in the future. Use float(ser.iloc[0]) instead\n",
            "  reward = float(ratings.loc[ratings['recipe_slug'] == top[0], 'rating'])\n",
            "/tmp/ipykernel_16498/3596101860.py:28: FutureWarning: Calling float on a single element Series is deprecated and will raise a TypeError in the future. Use float(ser.iloc[0]) instead\n",
            "  reward = float(ratings.loc[ratings['recipe_slug'] == top[0], 'rating'])\n",
            "/tmp/ipykernel_16498/3596101860.py:28: FutureWarning: Calling float on a single element Series is deprecated and will raise a TypeError in the future. Use float(ser.iloc[0]) instead\n",
            "  reward = float(ratings.loc[ratings['recipe_slug'] == top[0], 'rating'])\n",
            "/tmp/ipykernel_16498/3596101860.py:28: FutureWarning: Calling float on a single element Series is deprecated and will raise a TypeError in the future. Use float(ser.iloc[0]) instead\n",
            "  reward = float(ratings.loc[ratings['recipe_slug'] == top[0], 'rating'])\n",
            "/tmp/ipykernel_16498/3596101860.py:28: FutureWarning: Calling float on a single element Series is deprecated and will raise a TypeError in the future. Use float(ser.iloc[0]) instead\n",
            "  reward = float(ratings.loc[ratings['recipe_slug'] == top[0], 'rating'])\n",
            "/tmp/ipykernel_16498/3596101860.py:28: FutureWarning: Calling float on a single element Series is deprecated and will raise a TypeError in the future. Use float(ser.iloc[0]) instead\n",
            "  reward = float(ratings.loc[ratings['recipe_slug'] == top[0], 'rating'])\n",
            "/tmp/ipykernel_16498/3596101860.py:28: FutureWarning: Calling float on a single element Series is deprecated and will raise a TypeError in the future. Use float(ser.iloc[0]) instead\n",
            "  reward = float(ratings.loc[ratings['recipe_slug'] == top[0], 'rating'])\n",
            "/tmp/ipykernel_16498/3596101860.py:28: FutureWarning: Calling float on a single element Series is deprecated and will raise a TypeError in the future. Use float(ser.iloc[0]) instead\n",
            "  reward = float(ratings.loc[ratings['recipe_slug'] == top[0], 'rating'])\n",
            "/tmp/ipykernel_16498/3596101860.py:28: FutureWarning: Calling float on a single element Series is deprecated and will raise a TypeError in the future. Use float(ser.iloc[0]) instead\n",
            "  reward = float(ratings.loc[ratings['recipe_slug'] == top[0], 'rating'])\n",
            "/tmp/ipykernel_16498/3596101860.py:28: FutureWarning: Calling float on a single element Series is deprecated and will raise a TypeError in the future. Use float(ser.iloc[0]) instead\n",
            "  reward = float(ratings.loc[ratings['recipe_slug'] == top[0], 'rating'])\n",
            "/tmp/ipykernel_16498/3596101860.py:28: FutureWarning: Calling float on a single element Series is deprecated and will raise a TypeError in the future. Use float(ser.iloc[0]) instead\n",
            "  reward = float(ratings.loc[ratings['recipe_slug'] == top[0], 'rating'])\n",
            "/tmp/ipykernel_16498/3596101860.py:28: FutureWarning: Calling float on a single element Series is deprecated and will raise a TypeError in the future. Use float(ser.iloc[0]) instead\n",
            "  reward = float(ratings.loc[ratings['recipe_slug'] == top[0], 'rating'])\n",
            "/tmp/ipykernel_16498/3596101860.py:28: FutureWarning: Calling float on a single element Series is deprecated and will raise a TypeError in the future. Use float(ser.iloc[0]) instead\n",
            "  reward = float(ratings.loc[ratings['recipe_slug'] == top[0], 'rating'])\n",
            "/tmp/ipykernel_16498/3596101860.py:28: FutureWarning: Calling float on a single element Series is deprecated and will raise a TypeError in the future. Use float(ser.iloc[0]) instead\n",
            "  reward = float(ratings.loc[ratings['recipe_slug'] == top[0], 'rating'])\n",
            "/tmp/ipykernel_16498/3596101860.py:28: FutureWarning: Calling float on a single element Series is deprecated and will raise a TypeError in the future. Use float(ser.iloc[0]) instead\n",
            "  reward = float(ratings.loc[ratings['recipe_slug'] == top[0], 'rating'])\n",
            "/tmp/ipykernel_16498/3596101860.py:28: FutureWarning: Calling float on a single element Series is deprecated and will raise a TypeError in the future. Use float(ser.iloc[0]) instead\n",
            "  reward = float(ratings.loc[ratings['recipe_slug'] == top[0], 'rating'])\n",
            "/tmp/ipykernel_16498/3596101860.py:28: FutureWarning: Calling float on a single element Series is deprecated and will raise a TypeError in the future. Use float(ser.iloc[0]) instead\n",
            "  reward = float(ratings.loc[ratings['recipe_slug'] == top[0], 'rating'])\n",
            "/tmp/ipykernel_16498/3596101860.py:28: FutureWarning: Calling float on a single element Series is deprecated and will raise a TypeError in the future. Use float(ser.iloc[0]) instead\n",
            "  reward = float(ratings.loc[ratings['recipe_slug'] == top[0], 'rating'])\n",
            "/tmp/ipykernel_16498/3596101860.py:28: FutureWarning: Calling float on a single element Series is deprecated and will raise a TypeError in the future. Use float(ser.iloc[0]) instead\n",
            "  reward = float(ratings.loc[ratings['recipe_slug'] == top[0], 'rating'])\n",
            "/tmp/ipykernel_16498/3596101860.py:28: FutureWarning: Calling float on a single element Series is deprecated and will raise a TypeError in the future. Use float(ser.iloc[0]) instead\n",
            "  reward = float(ratings.loc[ratings['recipe_slug'] == top[0], 'rating'])\n",
            "/tmp/ipykernel_16498/3596101860.py:28: FutureWarning: Calling float on a single element Series is deprecated and will raise a TypeError in the future. Use float(ser.iloc[0]) instead\n",
            "  reward = float(ratings.loc[ratings['recipe_slug'] == top[0], 'rating'])\n",
            "/tmp/ipykernel_16498/3596101860.py:28: FutureWarning: Calling float on a single element Series is deprecated and will raise a TypeError in the future. Use float(ser.iloc[0]) instead\n",
            "  reward = float(ratings.loc[ratings['recipe_slug'] == top[0], 'rating'])\n",
            "/tmp/ipykernel_16498/3596101860.py:28: FutureWarning: Calling float on a single element Series is deprecated and will raise a TypeError in the future. Use float(ser.iloc[0]) instead\n",
            "  reward = float(ratings.loc[ratings['recipe_slug'] == top[0], 'rating'])\n",
            "/tmp/ipykernel_16498/3596101860.py:28: FutureWarning: Calling float on a single element Series is deprecated and will raise a TypeError in the future. Use float(ser.iloc[0]) instead\n",
            "  reward = float(ratings.loc[ratings['recipe_slug'] == top[0], 'rating'])\n",
            "/tmp/ipykernel_16498/3596101860.py:28: FutureWarning: Calling float on a single element Series is deprecated and will raise a TypeError in the future. Use float(ser.iloc[0]) instead\n",
            "  reward = float(ratings.loc[ratings['recipe_slug'] == top[0], 'rating'])\n",
            "/tmp/ipykernel_16498/3596101860.py:28: FutureWarning: Calling float on a single element Series is deprecated and will raise a TypeError in the future. Use float(ser.iloc[0]) instead\n",
            "  reward = float(ratings.loc[ratings['recipe_slug'] == top[0], 'rating'])\n",
            "/tmp/ipykernel_16498/3596101860.py:28: FutureWarning: Calling float on a single element Series is deprecated and will raise a TypeError in the future. Use float(ser.iloc[0]) instead\n",
            "  reward = float(ratings.loc[ratings['recipe_slug'] == top[0], 'rating'])\n",
            "/tmp/ipykernel_16498/3596101860.py:28: FutureWarning: Calling float on a single element Series is deprecated and will raise a TypeError in the future. Use float(ser.iloc[0]) instead\n",
            "  reward = float(ratings.loc[ratings['recipe_slug'] == top[0], 'rating'])\n",
            "/tmp/ipykernel_16498/3596101860.py:28: FutureWarning: Calling float on a single element Series is deprecated and will raise a TypeError in the future. Use float(ser.iloc[0]) instead\n",
            "  reward = float(ratings.loc[ratings['recipe_slug'] == top[0], 'rating'])\n",
            "/tmp/ipykernel_16498/3596101860.py:28: FutureWarning: Calling float on a single element Series is deprecated and will raise a TypeError in the future. Use float(ser.iloc[0]) instead\n",
            "  reward = float(ratings.loc[ratings['recipe_slug'] == top[0], 'rating'])\n",
            "/tmp/ipykernel_16498/3596101860.py:28: FutureWarning: Calling float on a single element Series is deprecated and will raise a TypeError in the future. Use float(ser.iloc[0]) instead\n",
            "  reward = float(ratings.loc[ratings['recipe_slug'] == top[0], 'rating'])\n",
            "/tmp/ipykernel_16498/3596101860.py:28: FutureWarning: Calling float on a single element Series is deprecated and will raise a TypeError in the future. Use float(ser.iloc[0]) instead\n",
            "  reward = float(ratings.loc[ratings['recipe_slug'] == top[0], 'rating'])\n",
            "/tmp/ipykernel_16498/3596101860.py:28: FutureWarning: Calling float on a single element Series is deprecated and will raise a TypeError in the future. Use float(ser.iloc[0]) instead\n",
            "  reward = float(ratings.loc[ratings['recipe_slug'] == top[0], 'rating'])\n",
            "/tmp/ipykernel_16498/3596101860.py:28: FutureWarning: Calling float on a single element Series is deprecated and will raise a TypeError in the future. Use float(ser.iloc[0]) instead\n",
            "  reward = float(ratings.loc[ratings['recipe_slug'] == top[0], 'rating'])\n",
            "/tmp/ipykernel_16498/3596101860.py:28: FutureWarning: Calling float on a single element Series is deprecated and will raise a TypeError in the future. Use float(ser.iloc[0]) instead\n",
            "  reward = float(ratings.loc[ratings['recipe_slug'] == top[0], 'rating'])\n",
            "/tmp/ipykernel_16498/3596101860.py:28: FutureWarning: Calling float on a single element Series is deprecated and will raise a TypeError in the future. Use float(ser.iloc[0]) instead\n",
            "  reward = float(ratings.loc[ratings['recipe_slug'] == top[0], 'rating'])\n"
          ]
        }
      ],
      "source": [
        "# YOUR CHANGES HERE\n",
        "\n",
        "recommendations = []\n",
        "\n",
        "remaining = set(features['recipe_slug'])\n",
        "history_X = []\n",
        "history_y = []\n",
        "\n",
        "for _ in range(100):\n",
        "    bounds = []\n",
        "    for i, slug in enumerate(features['recipe_slug']):\n",
        "        if slug not in remaining:\n",
        "            continue\n",
        "        x = features.drop('recipe_slug', axis=1).iloc[i].values\n",
        "        if history_X:\n",
        "            X_hist = np.vstack(history_X)\n",
        "            A = X_hist.T @ X_hist + alpha * np.identity(len(x))\n",
        "            A_inv = np.linalg.inv(A)\n",
        "            coef = np.linalg.solve(A, X_hist.T @ np.array(history_y))\n",
        "            estimate = x @ coef\n",
        "            var = np.sqrt(x @ A_inv @ x)\n",
        "        else:\n",
        "            estimate = 0\n",
        "            var = np.sqrt(alpha * np.sum(x ** 2))\n",
        "        bound = estimate + 2 * var\n",
        "        bounds.append((slug, bound, estimate, x))\n",
        "    top = max(bounds, key=lambda t: t[1])\n",
        "    reward = float(ratings.loc[ratings['recipe_slug'] == top[0], 'rating'])\n",
        "    recommendations.append({'recipe_slug': top[0], 'score_bound': top[1], 'reward': reward})\n",
        "    history_X.append(top[3])\n",
        "    history_y.append(reward)\n",
        "    remaining.remove(top[0])\n",
        "\n",
        "pd.DataFrame(recommendations).to_csv('recommendations.tsv', sep='\\t', index=False)\n"
      ]
    },
    {
      "cell_type": "markdown",
      "metadata": {
        "id": "23jv0cD0woSt"
      },
      "source": [
        "Submit \"recommendations.tsv\" in Gradescope."
      ]
    },
    {
      "cell_type": "markdown",
      "metadata": {
        "id": "zi8lV2pbvWMs"
      },
      "source": [
        "## Part 7: Acknowledgments\n",
        "\n",
        "Make a file \"acknowledgments.txt\" documenting any outside sources or help on this project.\n",
        "If you discussed this assignment with anyone, please acknowledge them here.\n",
        "If you used any libraries not mentioned in this module's content, please list them with a brief explanation what you used them for.\n",
        "If you used any generative AI tools, please add links to your transcripts below, and any other information that you feel is necessary to comply with the generative AI policy.\n",
        "If no acknowledgements are appropriate, just write none in the file.\n"
      ]
    },
    {
      "cell_type": "markdown",
      "metadata": {
        "id": "SuNJe62UxCoH"
      },
      "source": [
        "Submit \"acknowledgments.txt\" in Gradescope."
      ]
    },
    {
      "cell_type": "markdown",
      "metadata": {
        "id": "smsTLuFcvR-I"
      },
      "source": [
        "## Part 8: Code\n",
        "\n",
        "Please submit a Jupyter notebook that can reproduce all your calculations and recreate the previously submitted files.\n"
      ]
    },
    {
      "cell_type": "markdown",
      "metadata": {
        "id": "3cgzHyF7wxpr"
      },
      "source": [
        "Submit \"project.ipynb\" in Gradescope."
      ]
    }
  ],
  "metadata": {
    "colab": {
      "toc_visible": false
    },
    "kernelspec": {
      "display_name": "Python 3",
      "name": "python3"
    },
    "language_info": {
      "codemirror_mode": {
        "name": "ipython",
        "version": 3
      },
      "file_extension": ".py",
      "mimetype": "text/x-python",
      "name": "python",
      "nbconvert_exporter": "python",
      "pygments_lexer": "ipython3",
      "version": "3.12.1"
    }
  },
  "nbformat": 4,
  "nbformat_minor": 0
}
